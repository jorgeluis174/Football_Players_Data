{
 "cells": [
  {
   "attachments": {},
   "cell_type": "markdown",
   "metadata": {},
   "source": [
    "# About Dataset\n",
    "\n",
    "### *Description:*\n",
    "\n",
    "This dataset contains stats for 10 football players from Europe's top leagues. You will use this data to solve the following problem statement.\n",
    "\n",
    "### *Case Study:*\n",
    "Manchester United football club wants to know which player they should sign for the Striker position from the list provided. You need to perform a comparative Analysis between players and suggest two players whom they should sign.\n",
    "\n",
    "### *Additional Note:*\n",
    "One of the players should be less than 25 years of age\n",
    "One of the players should have preferably played in the English premier league\n",
    "\n",
    "### *Column name & description:*\n",
    "Player Name: Name of the player\n",
    "Age: The age of the player\n",
    "Current Club: Name of the club that the player currently plays for\n",
    "Opponent: Name of the team that the player played against\n",
    "Competition: Name of the competition.\n",
    "Date: Date of the match played\n",
    "Position: Playing position of the player\n",
    "Mins: Minutes played\n",
    "Goals: Total goals\n",
    "Assists: Total assists\n",
    "Yel: Yellow card\n",
    "Red: Red card\n",
    "Shots: Total shots\n",
    "PS%: Pass success percentage\n",
    "AerialsWon: Aerial duels won\n",
    "Rating: Rating per match\n",
    "\n",
    "This dataset belongs to @dataanalystduo. Unauthorized use or distribution of this project prohibited @dataanalystduo\n",
    "Dataset has been downloaded from the internet using multiple sources. All the credit for the dataset goes to the original creator of the data\n",
    "\n",
    "https://www.kaggle.com/datasets/kalpeshg0509/football-players-data"
   ]
  },
  {
   "attachments": {},
   "cell_type": "markdown",
   "metadata": {},
   "source": [
    "Importar las bibliotecas necesarias"
   ]
  },
  {
   "cell_type": "code",
   "execution_count": 33,
   "metadata": {},
   "outputs": [],
   "source": [
    "import pandas as pd\n",
    "import numpy as np\n",
    "import matplotlib.pyplot as plt"
   ]
  },
  {
   "attachments": {},
   "cell_type": "markdown",
   "metadata": {},
   "source": [
    "Cargar los datos"
   ]
  },
  {
   "cell_type": "code",
   "execution_count": 48,
   "metadata": {},
   "outputs": [],
   "source": [
    "# Lee el archivo CSV y lo almacena en un DataFrame de Pandas\n",
    "df = pd.read_csv(\"Players_data.csv\", encoding='ISO-8859-1', delimiter=\";\")\n"
   ]
  },
  {
   "attachments": {},
   "cell_type": "markdown",
   "metadata": {},
   "source": [
    "Explorar los datos"
   ]
  },
  {
   "cell_type": "code",
   "execution_count": 49,
   "metadata": {},
   "outputs": [
    {
     "name": "stdout",
     "output_type": "stream",
     "text": [
      "(289, 16)\n"
     ]
    },
    {
     "data": {
      "text/html": [
       "<div>\n",
       "<style scoped>\n",
       "    .dataframe tbody tr th:only-of-type {\n",
       "        vertical-align: middle;\n",
       "    }\n",
       "\n",
       "    .dataframe tbody tr th {\n",
       "        vertical-align: top;\n",
       "    }\n",
       "\n",
       "    .dataframe thead th {\n",
       "        text-align: right;\n",
       "    }\n",
       "</style>\n",
       "<table border=\"1\" class=\"dataframe\">\n",
       "  <thead>\n",
       "    <tr style=\"text-align: right;\">\n",
       "      <th></th>\n",
       "      <th>Player Name</th>\n",
       "      <th>Age</th>\n",
       "      <th>Current Club</th>\n",
       "      <th>Opponent</th>\n",
       "      <th>competition</th>\n",
       "      <th>Date</th>\n",
       "      <th>Position</th>\n",
       "      <th>Mins</th>\n",
       "      <th>Goals</th>\n",
       "      <th>Assists</th>\n",
       "      <th>Yel</th>\n",
       "      <th>Red</th>\n",
       "      <th>Shots</th>\n",
       "      <th>PS%</th>\n",
       "      <th>AerialsWon</th>\n",
       "      <th>Rating</th>\n",
       "    </tr>\n",
       "  </thead>\n",
       "  <tbody>\n",
       "    <tr>\n",
       "      <th>0</th>\n",
       "      <td>Aleksandar Mitrovic</td>\n",
       "      <td>28</td>\n",
       "      <td>Fulham</td>\n",
       "      <td>Brentford (A)3 - 2</td>\n",
       "      <td>Premier League</td>\n",
       "      <td>3/06/2023</td>\n",
       "      <td>FW</td>\n",
       "      <td>90</td>\n",
       "      <td>-</td>\n",
       "      <td>-</td>\n",
       "      <td>1</td>\n",
       "      <td>-</td>\n",
       "      <td>1</td>\n",
       "      <td>55</td>\n",
       "      <td>2</td>\n",
       "      <td>6</td>\n",
       "    </tr>\n",
       "    <tr>\n",
       "      <th>1</th>\n",
       "      <td>Aleksandar Mitrovic</td>\n",
       "      <td>28</td>\n",
       "      <td>Fulham</td>\n",
       "      <td>Newcastle (A)1 - 0</td>\n",
       "      <td>Premier League</td>\n",
       "      <td>15/01/2023</td>\n",
       "      <td>FW</td>\n",
       "      <td>90</td>\n",
       "      <td>-</td>\n",
       "      <td>-</td>\n",
       "      <td>-</td>\n",
       "      <td>-</td>\n",
       "      <td>3</td>\n",
       "      <td>75</td>\n",
       "      <td>2</td>\n",
       "      <td>5</td>\n",
       "    </tr>\n",
       "    <tr>\n",
       "      <th>2</th>\n",
       "      <td>Aleksandar Mitrovic</td>\n",
       "      <td>28</td>\n",
       "      <td>Fulham</td>\n",
       "      <td>Tottenham (A)2 - 1</td>\n",
       "      <td>Premier League</td>\n",
       "      <td>9/03/2022</td>\n",
       "      <td>FW</td>\n",
       "      <td>90</td>\n",
       "      <td>1</td>\n",
       "      <td>-</td>\n",
       "      <td>1</td>\n",
       "      <td>-</td>\n",
       "      <td>5</td>\n",
       "      <td>50</td>\n",
       "      <td>2</td>\n",
       "      <td>7</td>\n",
       "    </tr>\n",
       "    <tr>\n",
       "      <th>3</th>\n",
       "      <td>Aleksandar Mitrovic</td>\n",
       "      <td>28</td>\n",
       "      <td>Fulham</td>\n",
       "      <td>Tottenham (H)0 - 1</td>\n",
       "      <td>Premier League</td>\n",
       "      <td>23/01/2023</td>\n",
       "      <td>FW</td>\n",
       "      <td>90</td>\n",
       "      <td>-</td>\n",
       "      <td>-</td>\n",
       "      <td>-</td>\n",
       "      <td>-</td>\n",
       "      <td>2</td>\n",
       "      <td>58</td>\n",
       "      <td>3</td>\n",
       "      <td>6</td>\n",
       "    </tr>\n",
       "    <tr>\n",
       "      <th>4</th>\n",
       "      <td>Aleksandar Mitrovic</td>\n",
       "      <td>28</td>\n",
       "      <td>Fulham</td>\n",
       "      <td>Southampton (H)2 - 1</td>\n",
       "      <td>Premier League</td>\n",
       "      <td>31/12/2022</td>\n",
       "      <td>FW</td>\n",
       "      <td>90</td>\n",
       "      <td>-</td>\n",
       "      <td>-</td>\n",
       "      <td>-</td>\n",
       "      <td>-</td>\n",
       "      <td>2</td>\n",
       "      <td>68</td>\n",
       "      <td>3</td>\n",
       "      <td>6</td>\n",
       "    </tr>\n",
       "  </tbody>\n",
       "</table>\n",
       "</div>"
      ],
      "text/plain": [
       "           Player Name  Age Current Club              Opponent  \\\n",
       "0  Aleksandar Mitrovic   28       Fulham    Brentford (A)3 - 2   \n",
       "1  Aleksandar Mitrovic   28       Fulham    Newcastle (A)1 - 0   \n",
       "2  Aleksandar Mitrovic   28       Fulham    Tottenham (A)2 - 1   \n",
       "3  Aleksandar Mitrovic   28       Fulham    Tottenham (H)0 - 1   \n",
       "4  Aleksandar Mitrovic   28       Fulham  Southampton (H)2 - 1   \n",
       "\n",
       "      competition        Date Position  Mins  Goals Assists    Yel    Red  \\\n",
       "0  Premier League   3/06/2023       FW    90   -       -         1   -      \n",
       "1  Premier League  15/01/2023       FW    90   -       -      -      -      \n",
       "2  Premier League   9/03/2022       FW    90      1    -         1   -      \n",
       "3  Premier League  23/01/2023       FW    90   -       -      -      -      \n",
       "4  Premier League  31/12/2022       FW    90   -       -      -      -      \n",
       "\n",
       "  Shots  PS% AerialsWon  Rating  \n",
       "0     1   55          2       6  \n",
       "1     3   75          2       5  \n",
       "2     5   50          2       7  \n",
       "3     2   58          3       6  \n",
       "4     2   68          3       6  "
      ]
     },
     "execution_count": 49,
     "metadata": {},
     "output_type": "execute_result"
    }
   ],
   "source": [
    "#  imprime el tamaño del DataFrame y las primeras 5 filas de éste.\n",
    "print(df.shape)\n",
    "df.head()"
   ]
  },
  {
   "cell_type": "code",
   "execution_count": 50,
   "metadata": {},
   "outputs": [
    {
     "name": "stdout",
     "output_type": "stream",
     "text": [
      "<class 'pandas.core.frame.DataFrame'>\n",
      "RangeIndex: 289 entries, 0 to 288\n",
      "Data columns (total 16 columns):\n",
      " #   Column        Non-Null Count  Dtype \n",
      "---  ------        --------------  ----- \n",
      " 0   Player Name   289 non-null    object\n",
      " 1   Age           289 non-null    int64 \n",
      " 2   Current Club  289 non-null    object\n",
      " 3   Opponent      289 non-null    object\n",
      " 4   competition   289 non-null    object\n",
      " 5   Date          289 non-null    object\n",
      " 6   Position      289 non-null    object\n",
      " 7   Mins          289 non-null    int64 \n",
      " 8   Goals         289 non-null    object\n",
      " 9   Assists       289 non-null    object\n",
      " 10  Yel           289 non-null    object\n",
      " 11  Red           289 non-null    object\n",
      " 12  Shots         289 non-null    object\n",
      " 13  PS%           289 non-null    int64 \n",
      " 14  AerialsWon    289 non-null    object\n",
      " 15  Rating        289 non-null    int64 \n",
      "dtypes: int64(4), object(12)\n",
      "memory usage: 36.3+ KB\n"
     ]
    }
   ],
   "source": [
    "# Veamos las variables categóricas y las numéricas\n",
    "df.info()"
   ]
  },
  {
   "attachments": {},
   "cell_type": "markdown",
   "metadata": {},
   "source": [
    "Limpiar y preparar los datos"
   ]
  },
  {
   "attachments": {},
   "cell_type": "markdown",
   "metadata": {},
   "source": [
    "### Realizar el análisis de datos:\n",
    "\n",
    "filtrar los jugadores que son delanteros y que han jugado en la Premier League. Para hacer esto, podemos usar el siguiente código:"
   ]
  },
  {
   "cell_type": "code",
   "execution_count": 52,
   "metadata": {},
   "outputs": [
    {
     "name": "stdout",
     "output_type": "stream",
     "text": [
      "           Player Name  Age Current Club            Opponent     competition  \\\n",
      "0  Aleksandar Mitrovic   28       Fulham  Brentford (A)3 - 2  Premier League   \n",
      "\n",
      "        Date Position  Mins  Goals  Assists  ...  AerialsWon  Rating  \\\n",
      "0  3/06/2023       FW    90   -         NaN  ...         2.0       6   \n",
      "\n",
      "  Total Games                                        Total Goals    PS% Avg  \\\n",
      "0         289   -    -   1 -    -   1 -    -   11 -    -   1 ...  70.529412   \n",
      "\n",
      "   Assists Avg  Yel Avg Red Avg  AerialsWon Avg   Mins Avg  \n",
      "0     1.081081      1.0     1.0        2.453333  80.916955  \n",
      "\n",
      "[1 rows x 24 columns]\n"
     ]
    }
   ],
   "source": [
    "# calcula las nuevas columnas\n",
    "df['PS%'] = pd.to_numeric(df['PS%'], errors='coerce')\n",
    "df['Assists'] = pd.to_numeric(df['Assists'], errors='coerce')\n",
    "df['Yel'] = pd.to_numeric(df['Yel'], errors='coerce')\n",
    "df['Red'] = pd.to_numeric(df['Red'], errors='coerce')\n",
    "df['AerialsWon'] = pd.to_numeric(df['AerialsWon'], errors='coerce')\n",
    "df['Mins'] = pd.to_numeric(df['Mins'], errors='coerce')\n",
    "\n",
    "total_games = len(df)\n",
    "total_goals = df['Goals'].sum()\n",
    "ps_avg = df['PS%'].mean()\n",
    "assists_avg = df['Assists'].mean()\n",
    "yel_avg = df['Yel'].mean()\n",
    "red_avg = df['Red'].mean()\n",
    "aerials_won_avg = df['AerialsWon'].mean()\n",
    "mins_avg = df['Mins'].mean()\n",
    "\n",
    "# crea un nuevo data frame con las nuevas columnas\n",
    "new_data = {'Total Games': [total_games], 'Total Goals': [total_goals], 'PS% Avg': [ps_avg], 'Assists Avg': [assists_avg], 'Yel Avg': [yel_avg], 'Red Avg': [red_avg], 'AerialsWon Avg': [aerials_won_avg], 'Mins Avg': [mins_avg]}\n",
    "new_df = pd.DataFrame(new_data)\n",
    "\n",
    "# agrega las nuevas columnas al data frame original\n",
    "df = df.merge(new_df, left_index=True, right_index=True)\n",
    "\n",
    "# muestra el data frame con las nuevas columnas\n",
    "print(df)"
   ]
  }
 ],
 "metadata": {
  "kernelspec": {
   "display_name": "Python 3",
   "language": "python",
   "name": "python3"
  },
  "language_info": {
   "codemirror_mode": {
    "name": "ipython",
    "version": 3
   },
   "file_extension": ".py",
   "mimetype": "text/x-python",
   "name": "python",
   "nbconvert_exporter": "python",
   "pygments_lexer": "ipython3",
   "version": "3.11.2"
  },
  "orig_nbformat": 4
 },
 "nbformat": 4,
 "nbformat_minor": 2
}
